{
 "cells": [
  {
   "cell_type": "markdown",
   "metadata": {},
   "source": [
    "# Ejercicio 6: Regresión Velocidad del Viento"
   ]
  },
  {
   "cell_type": "code",
   "execution_count": 38,
   "metadata": {},
   "outputs": [],
   "source": [
    "import pandas as pd\n",
    "import numpy as np\n",
    "import matplotlib.pyplot as plt\n",
    "import matplotlib\n",
    "import seaborn as sns\n",
    "import warnings\n",
    "warnings.filterwarnings('ignore') # setting ignore as a parameter\n",
    "pd.set_option('display.max_columns', None)\n",
    "pd.set_option('display.max_rows', None)"
   ]
  },
  {
   "cell_type": "markdown",
   "metadata": {},
   "source": [
    "***Nota:*** *En caso de visualizar el mensaje 'ModuleNotFoundError', ignorarlo.*"
   ]
  },
  {
   "cell_type": "markdown",
   "metadata": {},
   "source": [
    "### Contexto\n"
   ]
  },
  {
   "cell_type": "markdown",
   "metadata": {},
   "source": [
    "Considere el conjunto de datos Wind Speed. Implemente la\n",
    "versión de regresión de cada uno de los modelos estudiados en clases, para predecir velocidad del viento horaria (VENTO, VELOCIDADE HORARIA (m/s)) en el conjunto de datos suministrado. Construir una tabla de error con las métricas usuales de regresión, MAPE, RMSE, R2 (ver Table 2). Realice particiones de entrenamiento y validación, con base en lo descrito en la Figura 1. Estas particiones siguen la tendencia de la velocidad del viento. Utilice la métrica RMSE en la evaluación y validación, para seleccionar el mejor modelo de regresión. El pliegue de validación en cada partición, debe estar siempre ubicado en el porcentaje final de cada partición, debido a que el tiempo es fundamental en dichas predicciones.\n"
   ]
  },
  {
   "cell_type": "code",
   "execution_count": 39,
   "metadata": {},
   "outputs": [
    {
     "data": {
      "text/html": [
       "<div>\n",
       "<style scoped>\n",
       "    .dataframe tbody tr th:only-of-type {\n",
       "        vertical-align: middle;\n",
       "    }\n",
       "\n",
       "    .dataframe tbody tr th {\n",
       "        vertical-align: top;\n",
       "    }\n",
       "\n",
       "    .dataframe thead th {\n",
       "        text-align: right;\n",
       "    }\n",
       "</style>\n",
       "<table border=\"1\" class=\"dataframe\">\n",
       "  <thead>\n",
       "    <tr style=\"text-align: right;\">\n",
       "      <th></th>\n",
       "      <th>HORA (UTC)</th>\n",
       "      <th>VENTO, DIREï¿½ï¿½O HORARIA (gr) (ï¿½ (gr))</th>\n",
       "      <th>VENTO, VELOCIDADE HORARIA (m/s)</th>\n",
       "      <th>UMIDADE REL. MAX. NA HORA ANT. (AUT) (%)</th>\n",
       "      <th>UMIDADE REL. MIN. NA HORA ANT. (AUT) (%)</th>\n",
       "      <th>TEMPERATURA Mï¿½XIMA NA HORA ANT. (AUT) (ï¿½C)</th>\n",
       "      <th>TEMPERATURA Mï¿½NIMA NA HORA ANT. (AUT) (ï¿½C)</th>\n",
       "      <th>UMIDADE RELATIVA DO AR, HORARIA (%)</th>\n",
       "      <th>PRESSAO ATMOSFERICA AO NIVEL DA ESTACAO, HORARIA (mB)</th>\n",
       "      <th>PRECIPITAï¿½ï¿½O TOTAL, HORï¿½RIO (mm)</th>\n",
       "      <th>VENTO, RAJADA MAXIMA (m/s)</th>\n",
       "      <th>PRESSï¿½O ATMOSFERICA MAX.NA HORA ANT. (AUT) (mB)</th>\n",
       "      <th>PRESSï¿½O ATMOSFERICA MIN. NA HORA ANT. (AUT) (mB)</th>\n",
       "    </tr>\n",
       "  </thead>\n",
       "  <tbody>\n",
       "    <tr>\n",
       "      <th>0</th>\n",
       "      <td>12:00</td>\n",
       "      <td>0.809017</td>\n",
       "      <td>1.8</td>\n",
       "      <td>69.0</td>\n",
       "      <td>60.0</td>\n",
       "      <td>22.6</td>\n",
       "      <td>20.7</td>\n",
       "      <td>61.0</td>\n",
       "      <td>888.2</td>\n",
       "      <td>0.0</td>\n",
       "      <td>3.8</td>\n",
       "      <td>888.2</td>\n",
       "      <td>887.7</td>\n",
       "    </tr>\n",
       "    <tr>\n",
       "      <th>1</th>\n",
       "      <td>13:00</td>\n",
       "      <td>0.965926</td>\n",
       "      <td>2.7</td>\n",
       "      <td>62.0</td>\n",
       "      <td>55.0</td>\n",
       "      <td>24.2</td>\n",
       "      <td>22.5</td>\n",
       "      <td>55.0</td>\n",
       "      <td>888.4</td>\n",
       "      <td>0.0</td>\n",
       "      <td>4.7</td>\n",
       "      <td>888.4</td>\n",
       "      <td>888.2</td>\n",
       "    </tr>\n",
       "    <tr>\n",
       "      <th>2</th>\n",
       "      <td>14:00</td>\n",
       "      <td>0.891007</td>\n",
       "      <td>2.0</td>\n",
       "      <td>56.0</td>\n",
       "      <td>50.0</td>\n",
       "      <td>25.5</td>\n",
       "      <td>24.3</td>\n",
       "      <td>51.0</td>\n",
       "      <td>888.1</td>\n",
       "      <td>0.0</td>\n",
       "      <td>4.9</td>\n",
       "      <td>888.4</td>\n",
       "      <td>888.1</td>\n",
       "    </tr>\n",
       "    <tr>\n",
       "      <th>3</th>\n",
       "      <td>15:00</td>\n",
       "      <td>0.848048</td>\n",
       "      <td>2.5</td>\n",
       "      <td>52.0</td>\n",
       "      <td>44.0</td>\n",
       "      <td>27.4</td>\n",
       "      <td>25.0</td>\n",
       "      <td>44.0</td>\n",
       "      <td>887.4</td>\n",
       "      <td>0.0</td>\n",
       "      <td>5.8</td>\n",
       "      <td>888.1</td>\n",
       "      <td>887.4</td>\n",
       "    </tr>\n",
       "    <tr>\n",
       "      <th>4</th>\n",
       "      <td>16:00</td>\n",
       "      <td>0.224951</td>\n",
       "      <td>2.4</td>\n",
       "      <td>50.0</td>\n",
       "      <td>43.0</td>\n",
       "      <td>27.1</td>\n",
       "      <td>25.5</td>\n",
       "      <td>46.0</td>\n",
       "      <td>886.5</td>\n",
       "      <td>0.0</td>\n",
       "      <td>5.8</td>\n",
       "      <td>887.4</td>\n",
       "      <td>886.5</td>\n",
       "    </tr>\n",
       "  </tbody>\n",
       "</table>\n",
       "</div>"
      ],
      "text/plain": [
       "  HORA (UTC)  VENTO, DIREï¿½ï¿½O HORARIA (gr) (ï¿½ (gr))  \\\n",
       "0      12:00                                    0.809017   \n",
       "1      13:00                                    0.965926   \n",
       "2      14:00                                    0.891007   \n",
       "3      15:00                                    0.848048   \n",
       "4      16:00                                    0.224951   \n",
       "\n",
       "   VENTO, VELOCIDADE HORARIA (m/s)  UMIDADE REL. MAX. NA HORA ANT. (AUT) (%)  \\\n",
       "0                              1.8                                      69.0   \n",
       "1                              2.7                                      62.0   \n",
       "2                              2.0                                      56.0   \n",
       "3                              2.5                                      52.0   \n",
       "4                              2.4                                      50.0   \n",
       "\n",
       "   UMIDADE REL. MIN. NA HORA ANT. (AUT) (%)  \\\n",
       "0                                      60.0   \n",
       "1                                      55.0   \n",
       "2                                      50.0   \n",
       "3                                      44.0   \n",
       "4                                      43.0   \n",
       "\n",
       "   TEMPERATURA Mï¿½XIMA NA HORA ANT. (AUT) (ï¿½C)  \\\n",
       "0                                            22.6   \n",
       "1                                            24.2   \n",
       "2                                            25.5   \n",
       "3                                            27.4   \n",
       "4                                            27.1   \n",
       "\n",
       "   TEMPERATURA Mï¿½NIMA NA HORA ANT. (AUT) (ï¿½C)  \\\n",
       "0                                            20.7   \n",
       "1                                            22.5   \n",
       "2                                            24.3   \n",
       "3                                            25.0   \n",
       "4                                            25.5   \n",
       "\n",
       "   UMIDADE RELATIVA DO AR, HORARIA (%)  \\\n",
       "0                                 61.0   \n",
       "1                                 55.0   \n",
       "2                                 51.0   \n",
       "3                                 44.0   \n",
       "4                                 46.0   \n",
       "\n",
       "   PRESSAO ATMOSFERICA AO NIVEL DA ESTACAO, HORARIA (mB)  \\\n",
       "0                                              888.2       \n",
       "1                                              888.4       \n",
       "2                                              888.1       \n",
       "3                                              887.4       \n",
       "4                                              886.5       \n",
       "\n",
       "   PRECIPITAï¿½ï¿½O TOTAL, HORï¿½RIO (mm)  VENTO, RAJADA MAXIMA (m/s)  \\\n",
       "0                                     0.0                         3.8   \n",
       "1                                     0.0                         4.7   \n",
       "2                                     0.0                         4.9   \n",
       "3                                     0.0                         5.8   \n",
       "4                                     0.0                         5.8   \n",
       "\n",
       "   PRESSï¿½O ATMOSFERICA MAX.NA HORA ANT. (AUT) (mB)  \\\n",
       "0                                              888.2   \n",
       "1                                              888.4   \n",
       "2                                              888.4   \n",
       "3                                              888.1   \n",
       "4                                              887.4   \n",
       "\n",
       "   PRESSï¿½O ATMOSFERICA MIN. NA HORA ANT. (AUT) (mB)  \n",
       "0                                              887.7   \n",
       "1                                              888.2   \n",
       "2                                              888.1   \n",
       "3                                              887.4   \n",
       "4                                              886.5   "
      ]
     },
     "execution_count": 39,
     "metadata": {},
     "output_type": "execute_result"
    }
   ],
   "source": [
    "# lectura de datos\n",
    "viento_df = pd.read_csv('C:/Users/kaes1/Downloads/data_treino_dv_df_2000_2010.csv')\n",
    "viento_df.head()"
   ]
  },
  {
   "cell_type": "code",
   "execution_count": 40,
   "metadata": {},
   "outputs": [
    {
     "data": {
      "text/plain": [
       "Index(['HORA (UTC)', 'VENTO, DIREï¿½ï¿½O HORARIA (gr) (ï¿½ (gr))',\n",
       "       'VENTO, VELOCIDADE HORARIA (m/s)',\n",
       "       'UMIDADE REL. MAX. NA HORA ANT. (AUT) (%)',\n",
       "       'UMIDADE REL. MIN. NA HORA ANT. (AUT) (%)',\n",
       "       'TEMPERATURA Mï¿½XIMA NA HORA ANT. (AUT) (ï¿½C)',\n",
       "       'TEMPERATURA Mï¿½NIMA NA HORA ANT. (AUT) (ï¿½C)',\n",
       "       'UMIDADE RELATIVA DO AR, HORARIA (%)',\n",
       "       'PRESSAO ATMOSFERICA AO NIVEL DA ESTACAO, HORARIA (mB)',\n",
       "       'PRECIPITAï¿½ï¿½O TOTAL, HORï¿½RIO (mm)', 'VENTO, RAJADA MAXIMA (m/s)',\n",
       "       'PRESSï¿½O ATMOSFERICA MAX.NA HORA ANT. (AUT) (mB)',\n",
       "       'PRESSï¿½O ATMOSFERICA MIN. NA HORA ANT. (AUT) (mB)'],\n",
       "      dtype='object')"
      ]
     },
     "execution_count": 40,
     "metadata": {},
     "output_type": "execute_result"
    }
   ],
   "source": [
    "# Nombres de columnas\n",
    "viento_df.columns"
   ]
  },
  {
   "cell_type": "markdown",
   "metadata": {},
   "source": [
    "Por dificultad de compresión de los nombres, se realizará el cambio de nombres para los campos del dataset"
   ]
  },
  {
   "cell_type": "markdown",
   "metadata": {},
   "source": [
    "* **Renombrar variables**"
   ]
  },
  {
   "cell_type": "code",
   "execution_count": 41,
   "metadata": {},
   "outputs": [
    {
     "data": {
      "text/plain": [
       "Index(['HORA (UTC)', 'DirVientoHoraria', 'VelHorariaViento', 'HumRelMaxHAnt',\n",
       "       'HumRelMinHAnt', 'TempMaxHAnt', 'TempMinHAnt', 'HumRelHoraria',\n",
       "       'PresionAtmNivEstHor', 'PreciTotalHr', 'MaxRafagaViento',\n",
       "       'PreAtmMaxHAnt', 'PreAtmMinHAnt'],\n",
       "      dtype='object')"
      ]
     },
     "execution_count": 41,
     "metadata": {},
     "output_type": "execute_result"
    }
   ],
   "source": [
    "# Renombrar variables\n",
    "nuevos_nombres = {'HORA (UTC)': 'HORA (UTC)', \n",
    "                  'VENTO, DIREï¿½ï¿½O HORARIA (gr) (ï¿½ (gr))': 'DirVientoHoraria',\n",
    "                  'VENTO, VELOCIDADE HORARIA (m/s)': 'VelHorariaViento',\n",
    "                  'UMIDADE REL. MAX. NA HORA ANT. (AUT) (%)': 'HumRelMaxHAnt',\n",
    "                  'UMIDADE REL. MIN. NA HORA ANT. (AUT) (%)': 'HumRelMinHAnt',\n",
    "                  'TEMPERATURA Mï¿½XIMA NA HORA ANT. (AUT) (ï¿½C)': 'TempMaxHAnt',\n",
    "                  'TEMPERATURA Mï¿½NIMA NA HORA ANT. (AUT) (ï¿½C)': 'TempMinHAnt',\n",
    "                  'UMIDADE RELATIVA DO AR, HORARIA (%)': 'HumRelHoraria',\n",
    "                  'PRESSAO ATMOSFERICA AO NIVEL DA ESTACAO, HORARIA (mB)': 'PresionAtmNivEstHor',\n",
    "                  'PRECIPITAï¿½ï¿½O TOTAL, HORï¿½RIO (mm)': 'PreciTotalHr',\n",
    "                  'VENTO, RAJADA MAXIMA (m/s)': 'MaxRafagaViento',\n",
    "                  'PRESSï¿½O ATMOSFERICA MAX.NA HORA ANT. (AUT) (mB)': 'PreAtmMaxHAnt',\n",
    "                  'PRESSï¿½O ATMOSFERICA MIN. NA HORA ANT. (AUT) (mB)': 'PreAtmMinHAnt'}\n",
    "viento_df.rename(columns=nuevos_nombres, inplace=True)\n",
    "viento_df.columns\n"
   ]
  },
  {
   "cell_type": "markdown",
   "metadata": {},
   "source": [
    "### Preparación de los datos"
   ]
  },
  {
   "cell_type": "markdown",
   "metadata": {},
   "source": [
    "Se crea un nuevo dataframe con solo las variables que se van a utilizar en el analisis:"
   ]
  },
  {
   "cell_type": "code",
   "execution_count": 42,
   "metadata": {},
   "outputs": [
    {
     "data": {
      "text/html": [
       "<div>\n",
       "<style scoped>\n",
       "    .dataframe tbody tr th:only-of-type {\n",
       "        vertical-align: middle;\n",
       "    }\n",
       "\n",
       "    .dataframe tbody tr th {\n",
       "        vertical-align: top;\n",
       "    }\n",
       "\n",
       "    .dataframe thead th {\n",
       "        text-align: right;\n",
       "    }\n",
       "</style>\n",
       "<table border=\"1\" class=\"dataframe\">\n",
       "  <thead>\n",
       "    <tr style=\"text-align: right;\">\n",
       "      <th></th>\n",
       "      <th>HORA (UTC)</th>\n",
       "      <th>VelHorariaViento</th>\n",
       "      <th>DirVientoHoraria</th>\n",
       "      <th>HumRelMinHAnt</th>\n",
       "      <th>PreciTotalHr</th>\n",
       "      <th>MaxRafagaViento</th>\n",
       "    </tr>\n",
       "  </thead>\n",
       "  <tbody>\n",
       "    <tr>\n",
       "      <th>0</th>\n",
       "      <td>12:00</td>\n",
       "      <td>1.8</td>\n",
       "      <td>0.809017</td>\n",
       "      <td>60.0</td>\n",
       "      <td>0.0</td>\n",
       "      <td>3.8</td>\n",
       "    </tr>\n",
       "    <tr>\n",
       "      <th>1</th>\n",
       "      <td>13:00</td>\n",
       "      <td>2.7</td>\n",
       "      <td>0.965926</td>\n",
       "      <td>55.0</td>\n",
       "      <td>0.0</td>\n",
       "      <td>4.7</td>\n",
       "    </tr>\n",
       "    <tr>\n",
       "      <th>2</th>\n",
       "      <td>14:00</td>\n",
       "      <td>2.0</td>\n",
       "      <td>0.891007</td>\n",
       "      <td>50.0</td>\n",
       "      <td>0.0</td>\n",
       "      <td>4.9</td>\n",
       "    </tr>\n",
       "    <tr>\n",
       "      <th>3</th>\n",
       "      <td>15:00</td>\n",
       "      <td>2.5</td>\n",
       "      <td>0.848048</td>\n",
       "      <td>44.0</td>\n",
       "      <td>0.0</td>\n",
       "      <td>5.8</td>\n",
       "    </tr>\n",
       "    <tr>\n",
       "      <th>4</th>\n",
       "      <td>16:00</td>\n",
       "      <td>2.4</td>\n",
       "      <td>0.224951</td>\n",
       "      <td>43.0</td>\n",
       "      <td>0.0</td>\n",
       "      <td>5.8</td>\n",
       "    </tr>\n",
       "  </tbody>\n",
       "</table>\n",
       "</div>"
      ],
      "text/plain": [
       "  HORA (UTC)  VelHorariaViento  DirVientoHoraria  HumRelMinHAnt  PreciTotalHr  \\\n",
       "0      12:00               1.8          0.809017           60.0           0.0   \n",
       "1      13:00               2.7          0.965926           55.0           0.0   \n",
       "2      14:00               2.0          0.891007           50.0           0.0   \n",
       "3      15:00               2.5          0.848048           44.0           0.0   \n",
       "4      16:00               2.4          0.224951           43.0           0.0   \n",
       "\n",
       "   MaxRafagaViento  \n",
       "0              3.8  \n",
       "1              4.7  \n",
       "2              4.9  \n",
       "3              5.8  \n",
       "4              5.8  "
      ]
     },
     "execution_count": 42,
     "metadata": {},
     "output_type": "execute_result"
    }
   ],
   "source": [
    "v_df = viento_df[['HORA (UTC)','VelHorariaViento','DirVientoHoraria','HumRelMinHAnt', 'PreciTotalHr', 'MaxRafagaViento']]\n",
    "v_df.head()"
   ]
  },
  {
   "cell_type": "code",
   "execution_count": 43,
   "metadata": {},
   "outputs": [
    {
     "data": {
      "text/plain": [
       "(87693, 6)"
      ]
     },
     "execution_count": 43,
     "metadata": {},
     "output_type": "execute_result"
    }
   ],
   "source": [
    "v_df.shape"
   ]
  },
  {
   "cell_type": "markdown",
   "metadata": {},
   "source": [
    "La varia **HORA (UTC)** nos permite saber la hora en que se registro la velocidad del viento, por lo que se necesita esta variable para predecir la velocidad del viento. Para incluirla en el modelo, se debe convertir a valores númericos."
   ]
  },
  {
   "cell_type": "code",
   "execution_count": 44,
   "metadata": {},
   "outputs": [
    {
     "name": "stdout",
     "output_type": "stream",
     "text": [
      "[0.5        0.54166667 0.58333333 0.625      0.66666667 0.70833333\n",
      " 0.75       0.79166667 0.83333333 0.875      0.91666667 0.95833333\n",
      " 0.         0.04166667 0.08333333 0.125      0.16666667 0.20833333\n",
      " 0.25       0.29166667 0.33333333 0.375      0.41666667 0.45833333]\n"
     ]
    }
   ],
   "source": [
    "def convert_to_hours(time_str):\n",
    "    parts = time_str.split(':')\n",
    "    minutes = int(parts[0]) * 60 + int(parts[1])\n",
    "    return minutes/(60*24)\n",
    "\n",
    "# Aplicar la función lambda a la columna 'Hora' y almacenar el resultado en una nueva columna 'Hora_Num'\n",
    "v_df['Hora_Num'] = v_df['HORA (UTC)'].apply(lambda x: convert_to_hours(x))\n",
    "print(v_df['Hora_Num'].unique())"
   ]
  },
  {
   "cell_type": "markdown",
   "metadata": {},
   "source": [
    "Con el codigo anterior se crea una nueva variable **Hora_Num**, la cual representa en fracciones las horas del día."
   ]
  },
  {
   "cell_type": "code",
   "execution_count": 45,
   "metadata": {},
   "outputs": [
    {
     "data": {
      "text/html": [
       "<div>\n",
       "<style scoped>\n",
       "    .dataframe tbody tr th:only-of-type {\n",
       "        vertical-align: middle;\n",
       "    }\n",
       "\n",
       "    .dataframe tbody tr th {\n",
       "        vertical-align: top;\n",
       "    }\n",
       "\n",
       "    .dataframe thead th {\n",
       "        text-align: right;\n",
       "    }\n",
       "</style>\n",
       "<table border=\"1\" class=\"dataframe\">\n",
       "  <thead>\n",
       "    <tr style=\"text-align: right;\">\n",
       "      <th></th>\n",
       "      <th>VelHorariaViento</th>\n",
       "      <th>DirVientoHoraria</th>\n",
       "      <th>HumRelMinHAnt</th>\n",
       "      <th>PreciTotalHr</th>\n",
       "      <th>MaxRafagaViento</th>\n",
       "      <th>Hora_Num</th>\n",
       "    </tr>\n",
       "  </thead>\n",
       "  <tbody>\n",
       "    <tr>\n",
       "      <th>0</th>\n",
       "      <td>1.8</td>\n",
       "      <td>0.809017</td>\n",
       "      <td>60.0</td>\n",
       "      <td>0.0</td>\n",
       "      <td>3.8</td>\n",
       "      <td>0.500000</td>\n",
       "    </tr>\n",
       "    <tr>\n",
       "      <th>1</th>\n",
       "      <td>2.7</td>\n",
       "      <td>0.965926</td>\n",
       "      <td>55.0</td>\n",
       "      <td>0.0</td>\n",
       "      <td>4.7</td>\n",
       "      <td>0.541667</td>\n",
       "    </tr>\n",
       "    <tr>\n",
       "      <th>2</th>\n",
       "      <td>2.0</td>\n",
       "      <td>0.891007</td>\n",
       "      <td>50.0</td>\n",
       "      <td>0.0</td>\n",
       "      <td>4.9</td>\n",
       "      <td>0.583333</td>\n",
       "    </tr>\n",
       "    <tr>\n",
       "      <th>3</th>\n",
       "      <td>2.5</td>\n",
       "      <td>0.848048</td>\n",
       "      <td>44.0</td>\n",
       "      <td>0.0</td>\n",
       "      <td>5.8</td>\n",
       "      <td>0.625000</td>\n",
       "    </tr>\n",
       "    <tr>\n",
       "      <th>4</th>\n",
       "      <td>2.4</td>\n",
       "      <td>0.224951</td>\n",
       "      <td>43.0</td>\n",
       "      <td>0.0</td>\n",
       "      <td>5.8</td>\n",
       "      <td>0.666667</td>\n",
       "    </tr>\n",
       "  </tbody>\n",
       "</table>\n",
       "</div>"
      ],
      "text/plain": [
       "   VelHorariaViento  DirVientoHoraria  HumRelMinHAnt  PreciTotalHr  \\\n",
       "0               1.8          0.809017           60.0           0.0   \n",
       "1               2.7          0.965926           55.0           0.0   \n",
       "2               2.0          0.891007           50.0           0.0   \n",
       "3               2.5          0.848048           44.0           0.0   \n",
       "4               2.4          0.224951           43.0           0.0   \n",
       "\n",
       "   MaxRafagaViento  Hora_Num  \n",
       "0              3.8  0.500000  \n",
       "1              4.7  0.541667  \n",
       "2              4.9  0.583333  \n",
       "3              5.8  0.625000  \n",
       "4              5.8  0.666667  "
      ]
     },
     "execution_count": 45,
     "metadata": {},
     "output_type": "execute_result"
    }
   ],
   "source": [
    "# Eliminar variable HORA (UTC)\n",
    "trainval = v_df.drop('HORA (UTC)', axis=1)\n",
    "trainval.head()"
   ]
  },
  {
   "cell_type": "markdown",
   "metadata": {},
   "source": [
    "Ahora se separa la variable dependiente de las variables explicativas:"
   ]
  },
  {
   "cell_type": "code",
   "execution_count": 46,
   "metadata": {},
   "outputs": [],
   "source": [
    "X = trainval.drop('VelHorariaViento', axis=1)\n",
    "y = trainval['VelHorariaViento']"
   ]
  },
  {
   "cell_type": "markdown",
   "metadata": {},
   "source": [
    "A continuación se genera una secuencia, la cual indicará cuantas particiones se van a realizar. Por motivos de capacidad computacional y tiempos de ejecución, solo se van a hacer 60 particiones."
   ]
  },
  {
   "cell_type": "code",
   "execution_count": 47,
   "metadata": {},
   "outputs": [
    {
     "name": "stdout",
     "output_type": "stream",
     "text": [
      "[48, 72, 96, 120, 144, 168, 192, 216, 240, 264, 288, 312, 336, 360, 384, 408, 432, 456, 480, 504, 528, 552, 576, 600, 624, 648, 672, 696, 720, 744, 768, 792, 816, 840, 864, 888, 912, 936, 960, 984, 1008, 1032, 1056, 1080, 1104, 1128, 1152, 1176, 1200, 1224, 1248, 1272, 1296, 1320, 1344, 1368, 1392, 1416, 1440, 1464]\n"
     ]
    }
   ],
   "source": [
    "# Secuencia de particiones\n",
    "secuencia = []\n",
    "\n",
    "valor_inicial = 48\n",
    "paso = 24\n",
    "num_elementos = 60\n",
    "\n",
    "for i in range(num_elementos):\n",
    "    secuencia.append(valor_inicial)\n",
    "    valor_inicial += paso\n",
    "\n",
    "print(secuencia)"
   ]
  },
  {
   "cell_type": "markdown",
   "metadata": {},
   "source": [
    "### KNN Regressor"
   ]
  },
  {
   "cell_type": "markdown",
   "metadata": {},
   "source": [
    "El primer algoritmo de regresión que se va a aplicar es knn regressor. Para este caso, se va buscar cual es el valor de **k_neighbors** que permite obtener el RMSE mas bajo. Se probaran valores de k entre 1 y 20.\n",
    "\n",
    "Como este algoritmo se basa en distancias, se vuelve sensible a la escala de los datos, por lo que se aplicará una trasnformación a los datos para trabajarlos en la misma escala. En este caso se utilizará la opción MinMaxScaler."
   ]
  },
  {
   "cell_type": "code",
   "execution_count": 48,
   "metadata": {},
   "outputs": [],
   "source": [
    "# función para calcular MAPE\n",
    "def mean_absolute_percentage_error(y_true, y_pred):\n",
    "    y_true, y_pred = np.array(y_true), np.array(y_pred)\n",
    "    return np.mean(np.abs((y_true - y_pred) / y_true)) * 100"
   ]
  },
  {
   "cell_type": "code",
   "execution_count": 49,
   "metadata": {},
   "outputs": [
    {
     "name": "stdout",
     "output_type": "stream",
     "text": [
      "{'n_neighbors': 7}\n",
      "0.589396282026528\n"
     ]
    }
   ],
   "source": [
    "from sklearn.neighbors import KNeighborsRegressor\n",
    "from sklearn.preprocessing import MinMaxScaler\n",
    "from sklearn.model_selection import train_test_split\n",
    "from sklearn.metrics import mean_squared_error\n",
    "\n",
    "scaler = MinMaxScaler(feature_range=(0, 1))\n",
    "best_score=1000\n",
    "for n_n in range(1,21,1):\n",
    "    scores_rmse=[]\n",
    "    # print(n_n)\n",
    "    for size in secuencia:\n",
    "        X_train, X_test, y_train, y_test = train_test_split(X.iloc[:size, :], y.iloc[:size,], test_size=24,shuffle = False, stratify= None)\n",
    "        \n",
    "        # Se aplica trasnformación a los datos\n",
    "        X_train_= scaler.fit_transform(X_train, y_train)    \n",
    "        reg = KNeighborsRegressor(n_neighbors=n_n)\n",
    "        reg.fit(X_train_, y_train)\n",
    "        # Ahora a los datos de validación\n",
    "        X_test_=scaler.transform(X_test)\n",
    "        y_pred = reg.predict(X_test_)\n",
    "        score = np.sqrt(mean_squared_error(y_test, y_pred))\n",
    "        mape = mean_absolute_percentage_error(y_test, y_pred)\n",
    "        r2 = reg.score(X_test, y_test)\n",
    "        scores_rmse.append(score)\n",
    "    score_cv = np.mean(scores_rmse)\n",
    "    # print(score_cv)\n",
    "    if score_cv < best_score:\n",
    "        best_score = score_cv        \n",
    "        best_parameters = {'n_neighbors': n_n,}\n",
    "print(best_parameters)\n",
    "print(best_score)"
   ]
  },
  {
   "cell_type": "markdown",
   "metadata": {},
   "source": [
    "Para este caso, el RMSE mas bajo se obtuvo con 7 vecinos mas cercanos. Teniendo en cuenta el valor obtenido para el parámetro **n_neighbors**, se entrena el nuevo modelo con este parámetro, y considerando todos los datos. Los ultimos 24 registros se toman como set de prueba."
   ]
  },
  {
   "cell_type": "code",
   "execution_count": 50,
   "metadata": {},
   "outputs": [
    {
     "name": "stdout",
     "output_type": "stream",
     "text": [
      "{'RMSE': 0.7518797305764405, 'MAPE': 15.480043111557867, 'R2': 0.7441896407873396}\n"
     ]
    }
   ],
   "source": [
    "knn_metrics = {'RMSE': 1000,\n",
    "               'MAPE': 0,\n",
    "               'R2': 0}\n",
    "\n",
    "X_train, X_test, y_train, y_test = train_test_split(X, y, test_size=24,shuffle = False, stratify= None)\n",
    "X_train_= scaler.fit_transform(X_train, y_train)    \n",
    "reg = KNeighborsRegressor(**best_parameters)\n",
    "reg.fit(X_train_, y_train)\n",
    "# Ahora a los datos de validación\n",
    "X_test_=scaler.transform(X_test)\n",
    "y_pred = reg.predict(X_test_)\n",
    "score = np.sqrt(mean_squared_error(y_test, y_pred))\n",
    "mape = mean_absolute_percentage_error(y_test, y_pred)\n",
    "r2 = reg.score(X_test_, y_test)\n",
    "\n",
    "knn_metrics['RMSE'] = score\n",
    "knn_metrics['MAPE'] = mape\n",
    "knn_metrics['R2'] = r2\n",
    "\n",
    "#Resultados\n",
    "print(knn_metrics)"
   ]
  },
  {
   "cell_type": "markdown",
   "metadata": {},
   "source": [
    "### Ridge"
   ]
  },
  {
   "cell_type": "markdown",
   "metadata": {},
   "source": [
    "Ahora se aplicará la regresión Ridge. Para este caso, se va buscar cual es el valor de **alpha** que permite obtener el RMSE mas bajo. Se probaran los siguientes valores para alpha: [0.1, 0.25, 0.5, 0.75, 1, 2.5, 5, 7.5, 10]"
   ]
  },
  {
   "cell_type": "code",
   "execution_count": 51,
   "metadata": {},
   "outputs": [
    {
     "name": "stdout",
     "output_type": "stream",
     "text": [
      "{'alpha': 5}\n",
      "0.5479074780555206\n"
     ]
    }
   ],
   "source": [
    "from sklearn.linear_model import Ridge\n",
    "\n",
    "best_score=1000\n",
    "for alpha in [0.1, 0.25, 0.5, 0.75, 1, 2.5, 5, 7.5, 10]:\n",
    "    scores_rmse=[]\n",
    "    for size in secuencia:\n",
    "        X_train, X_test, y_train, y_test = train_test_split(X.iloc[:size, :], y.iloc[:size,], test_size=24,shuffle = False, stratify= None)\n",
    "        reg = Ridge(alpha=alpha)\n",
    "        reg.fit(X_train, y_train)\n",
    "        y_pred = reg.predict(X_test)\n",
    "        score = np.sqrt(mean_squared_error(y_test, y_pred))\n",
    "        mape = mean_absolute_percentage_error(y_test, y_pred)\n",
    "        r2 = reg.score(X_test, y_test)\n",
    "        scores_rmse.append(score)\n",
    "    score_cv = np.mean(scores_rmse)\n",
    "    if score_cv < best_score:\n",
    "        best_score = score_cv        \n",
    "        best_parameters = {'alpha': alpha,}\n",
    "print(best_parameters)\n",
    "print(best_score)"
   ]
  },
  {
   "cell_type": "markdown",
   "metadata": {},
   "source": [
    "Para este caso, el RMSE mas bajo se obtuvo con un **alpha** de 5. Teniendo en cuenta el valor obtenido para el parámetro **alpha**, se entrena el nuevo modelo con este parámetro, y considerando todos los datos. Los ultimos 24 registros se toman como set de prueba."
   ]
  },
  {
   "cell_type": "code",
   "execution_count": 52,
   "metadata": {},
   "outputs": [
    {
     "name": "stdout",
     "output_type": "stream",
     "text": [
      "{'RMSE': 0.5461064918915628, 'MAPE': 13.700323149102891, 'R2': 0.8650490171574026}\n"
     ]
    }
   ],
   "source": [
    "ridge_metrics = {'RMSE': 1000,\n",
    "               'MAPE': 0,\n",
    "               'R2': 0}\n",
    "\n",
    "X_train, X_test, y_train, y_test = train_test_split(X, y, test_size=24, shuffle = False, stratify= None)\n",
    "reg = Ridge(**best_parameters)\n",
    "reg.fit(X_train, y_train)\n",
    "y_pred = reg.predict(X_test)\n",
    "score = np.sqrt(mean_squared_error(y_test, y_pred))\n",
    "mape = mean_absolute_percentage_error(y_test, y_pred)\n",
    "r2 = reg.score(X_test, y_test)\n",
    "ridge_metrics['RMSE'] = score\n",
    "ridge_metrics['MAPE'] = mape\n",
    "ridge_metrics['R2'] = r2\n",
    "\n",
    "# Resultados\n",
    "print(ridge_metrics)"
   ]
  },
  {
   "cell_type": "markdown",
   "metadata": {},
   "source": [
    "### Lasso"
   ]
  },
  {
   "cell_type": "markdown",
   "metadata": {},
   "source": [
    "Ahora se aplicará la regresión Lasso. Para este caso, se va buscar cual es el valor de **alpha** que permite obtener el RMSE mas bajo. Se probaran los siguientes valores para alpha: [0.1, 0.25, 0.5, 0.75, 1, 2.5, 5, 7.5, 10]"
   ]
  },
  {
   "cell_type": "code",
   "execution_count": 53,
   "metadata": {},
   "outputs": [
    {
     "name": "stdout",
     "output_type": "stream",
     "text": [
      "{'alpha': 0.1}\n",
      "0.5660001173780793\n"
     ]
    }
   ],
   "source": [
    "from sklearn.linear_model import Lasso\n",
    "\n",
    "best_score=1000\n",
    "for alpha in [0.1, 0.25, 0.5, 0.75, 1, 2.5, 5, 7.5, 10]:\n",
    "    scores_rmse=[]\n",
    "    for size in secuencia:\n",
    "        X_train, X_test, y_train, y_test = train_test_split(X.iloc[:size, :], y.iloc[:size,], test_size=24,shuffle = False, stratify= None)\n",
    "        reg = Lasso(alpha=alpha)\n",
    "        reg.fit(X_train, y_train)\n",
    "        y_pred = reg.predict(X_test)\n",
    "        score = np.sqrt(mean_squared_error(y_test, y_pred))\n",
    "        mape = mean_absolute_percentage_error(y_test, y_pred)\n",
    "        r2 = reg.score(X_test, y_test)\n",
    "        scores_rmse.append(score)\n",
    "    score_cv = np.mean(scores_rmse)\n",
    "    if score_cv < best_score:\n",
    "        best_score = score_cv        \n",
    "        best_parameters = {'alpha': alpha,}\n",
    "print(best_parameters)\n",
    "print(best_score)"
   ]
  },
  {
   "cell_type": "markdown",
   "metadata": {},
   "source": [
    "Para este caso, el RMSE mas bajo se obtuvo con un **alpha** de 0.1. Teniendo en cuenta el valor obtenido para el parámetro **alpha**, se entrena el nuevo modelo con este parámetro, y considerando todos los datos. Los ultimos 24 registros se toman como set de prueba."
   ]
  },
  {
   "cell_type": "code",
   "execution_count": 54,
   "metadata": {},
   "outputs": [
    {
     "name": "stdout",
     "output_type": "stream",
     "text": [
      "{'RMSE': 0.5505372535799, 'MAPE': 13.609275445096984, 'R2': 0.8628503204241615}\n",
      "Número de features utilizados: 3\n"
     ]
    }
   ],
   "source": [
    "lasso_metrics = {'RMSE': 1000,\n",
    "               'MAPE': 0,\n",
    "               'R2': 0}\n",
    "\n",
    "X_train, X_test, y_train, y_test = train_test_split(X, y, test_size=24, shuffle = False, stratify= None)\n",
    "reg = Lasso(**best_parameters)\n",
    "reg.fit(X_train, y_train)\n",
    "y_pred = reg.predict(X_test)\n",
    "score = np.sqrt(mean_squared_error(y_test, y_pred))\n",
    "mape = mean_absolute_percentage_error(y_test, y_pred)\n",
    "r2 = reg.score(X_test, y_test)\n",
    "lasso_metrics['RMSE'] = score\n",
    "lasso_metrics['MAPE'] = mape\n",
    "lasso_metrics['R2'] = r2\n",
    "\n",
    "# Resultados\n",
    "print(lasso_metrics)\n",
    "print(\"Número de features utilizados: {}\".format(np.sum(reg.coef_ != 0)))"
   ]
  },
  {
   "cell_type": "markdown",
   "metadata": {},
   "source": [
    "### XGBoost"
   ]
  },
  {
   "cell_type": "markdown",
   "metadata": {},
   "source": [
    "El siguiente algoritmo a evaluar será XGBoost, basado en árboles de decisión. Para este algoritmo, se van a modificar los parámetros **max_depth** y **n_estimators**, hasta encontrar la combinación de valores que permitan obtener el menor RMSE."
   ]
  },
  {
   "cell_type": "code",
   "execution_count": 55,
   "metadata": {},
   "outputs": [
    {
     "name": "stdout",
     "output_type": "stream",
     "text": [
      "{'max_depth': 5, 'n_estimators': 500}\n",
      "0.6081276356084306\n"
     ]
    }
   ],
   "source": [
    "import xgboost as xgb\n",
    "\n",
    "best_score=1000\n",
    "for max_depth in [4, 5, 6]:\n",
    "    for n_estimators in [500, 600, 700]:      \n",
    "        scores_rmse=[]\n",
    "        for size in secuencia:\n",
    "            X_train, X_test, y_train, y_test = train_test_split(X.iloc[:size, :], y.iloc[:size,], test_size=24,shuffle = False, stratify= None)\n",
    "            reg = xgb.XGBRegressor(max_depth=max_depth, n_estimators=n_estimators, objective=\"reg:squarederror\")\n",
    "            reg.fit(X_train, y_train)\n",
    "            y_pred = reg.predict(X_test)\n",
    "            score = np.sqrt(mean_squared_error(y_test, y_pred))\n",
    "            mape = mean_absolute_percentage_error(y_test, y_pred)\n",
    "            r2 = reg.score(X_test, y_test)\n",
    "            scores_rmse.append(score)\n",
    "        score_cv = np.mean(scores_rmse)\n",
    "        if score_cv < best_score:\n",
    "            best_score = score_cv        \n",
    "            best_parameters = {'max_depth': max_depth, 'n_estimators': n_estimators}\n",
    "print(best_parameters)\n",
    "print(best_score)"
   ]
  },
  {
   "cell_type": "markdown",
   "metadata": {},
   "source": [
    "Para este caso, el RMSE mas bajo se obtuvo con un **max_depth** de 5 y **n_estimators** con valor 500. Teniendo en cuenta los valores obtenidos para los parámetros, se entrena el nuevo modelo considerando todos los datos. Los ultimos 24 registros se toman como set de prueba."
   ]
  },
  {
   "cell_type": "code",
   "execution_count": 56,
   "metadata": {},
   "outputs": [
    {
     "name": "stdout",
     "output_type": "stream",
     "text": [
      "{'RMSE': 0.6384089999696699, 'MAPE': 12.688368472065182, 'R2': 0.8155751771395297}\n"
     ]
    }
   ],
   "source": [
    "xgb_metrics = {'RMSE': 1000,\n",
    "               'MAPE': 0,\n",
    "               'R2': 0}\n",
    "\n",
    "X_train, X_test, y_train, y_test = train_test_split(X, y, test_size=24, shuffle = False, stratify= None)\n",
    "reg = xgb.XGBRegressor(**best_parameters)\n",
    "reg.fit(X_train, y_train)\n",
    "y_pred = reg.predict(X_test)\n",
    "score = np.sqrt(mean_squared_error(y_test, y_pred))\n",
    "mape = mean_absolute_percentage_error(y_test, y_pred)\n",
    "r2 = reg.score(X_test, y_test)\n",
    "xgb_metrics['RMSE'] = score\n",
    "xgb_metrics['MAPE'] = mape\n",
    "xgb_metrics['R2'] = r2\n",
    "\n",
    "# Resultados\n",
    "print(xgb_metrics)\n"
   ]
  },
  {
   "cell_type": "markdown",
   "metadata": {},
   "source": [
    "### SVM"
   ]
  },
  {
   "cell_type": "markdown",
   "metadata": {},
   "source": [
    "El siguiente algortimo a aplicar es SVM para regresión. En este caso se van a alternar los valores de los parámetros gamma y C, para encontrar la combinación de parámetros que permite obtener el menor RMSE. Para este modelo se aplica una trasnformación de los datos antes del entrenamiento, ya que este algoritmo es sensible a la escala de los datos de entrada."
   ]
  },
  {
   "cell_type": "code",
   "execution_count": 57,
   "metadata": {},
   "outputs": [
    {
     "name": "stdout",
     "output_type": "stream",
     "text": [
      "{'gamma': 0.1, 'C': 10}\n",
      "0.5238636296350053\n"
     ]
    }
   ],
   "source": [
    "from sklearn.svm import SVR\n",
    "\n",
    "scaler = MinMaxScaler(feature_range=(0, 1))\n",
    "best_score=1000\n",
    "for gamma in [0.001, 0.01, 0.1, 1, 10, 100]:\n",
    "    for C in [0.001, 0.01, 0.1, 1, 10, 100]:\n",
    "        scores_rmse=[]\n",
    "    # print(n_n)\n",
    "        for size in secuencia:\n",
    "            X_train, X_test, y_train, y_test = train_test_split(X.iloc[:size, :], y.iloc[:size,], test_size=24,shuffle = False, stratify= None)\n",
    "            \n",
    "            # Se aplica trasnformación a los datos\n",
    "            X_train_= scaler.fit_transform(X_train, y_train)    \n",
    "            reg = SVR(gamma=gamma, C=C)\n",
    "            reg.fit(X_train_, y_train)\n",
    "            # Ahora a los datos de validación\n",
    "            X_test_=scaler.transform(X_test)\n",
    "            y_pred = reg.predict(X_test_)\n",
    "            score = np.sqrt(mean_squared_error(y_test, y_pred))\n",
    "            mape = mean_absolute_percentage_error(y_test, y_pred)\n",
    "            r2 = reg.score(X_test, y_test)\n",
    "            scores_rmse.append(score)\n",
    "        score_cv = np.mean(scores_rmse)\n",
    "        # print(score_cv)\n",
    "        if score_cv < best_score:\n",
    "            best_score = score_cv        \n",
    "            best_parameters = {'gamma': gamma, 'C':C}\n",
    "print(best_parameters)\n",
    "print(best_score)"
   ]
  },
  {
   "cell_type": "markdown",
   "metadata": {},
   "source": [
    "Para este algoritmo, el RMSE mas bajo se obtuvo con **gamma** de 0.1 y **C** con valor 10. Teniendo en cuenta los valores obtenidos para los parámetros, se entrena el nuevo modelo considerando todos los datos. Los ultimos 24 registros se toman como set de prueba."
   ]
  },
  {
   "cell_type": "code",
   "execution_count": 58,
   "metadata": {},
   "outputs": [
    {
     "name": "stdout",
     "output_type": "stream",
     "text": [
      "{'RMSE': 0.5000957674840907, 'MAPE': 12.75748442239304, 'R2': 0.8868309341093163}\n"
     ]
    }
   ],
   "source": [
    "svm_metrics = {'RMSE': 1000,\n",
    "               'MAPE': 0,\n",
    "               'R2': 0}\n",
    "\n",
    "X_train, X_test, y_train, y_test = train_test_split(X, y, test_size=24,shuffle = False, stratify= None)\n",
    "X_train_= scaler.fit_transform(X_train, y_train)    \n",
    "reg = SVR(**best_parameters)\n",
    "reg.fit(X_train_, y_train)\n",
    "# Ahora a los datos de validación\n",
    "X_test_=scaler.transform(X_test)\n",
    "y_pred = reg.predict(X_test_)\n",
    "score = np.sqrt(mean_squared_error(y_test, y_pred))\n",
    "mape = mean_absolute_percentage_error(y_test, y_pred)\n",
    "r2 = reg.score(X_test_, y_test)\n",
    "svm_metrics['RMSE'] = score\n",
    "svm_metrics['MAPE'] = mape\n",
    "svm_metrics['R2'] = r2\n",
    "\n",
    "# Resultados\n",
    "print(svm_metrics)\n"
   ]
  },
  {
   "cell_type": "markdown",
   "metadata": {},
   "source": [
    "### MLP"
   ]
  },
  {
   "cell_type": "markdown",
   "metadata": {},
   "source": [
    "Finalmente, se aplica el algortimo de Multilayer Perceptron, para este algoritmo se van a modificar los valores de los parámetros **hidden_layer_sizes** y **alpha**, hasta encontrar la mejor combinación para minimizar el RMSE. Para este modelo, se aplica una tranformación a los datos de entrenamientos antes de ingresarlos al modelo, para que los datos esten en la misma escala."
   ]
  },
  {
   "cell_type": "code",
   "execution_count": 59,
   "metadata": {},
   "outputs": [
    {
     "name": "stdout",
     "output_type": "stream",
     "text": [
      "{'hidden_layer_sizes': [100, 100], 'alpha': 1}\n",
      "0.5413893222410517\n"
     ]
    }
   ],
   "source": [
    "from sklearn.neural_network import MLPRegressor\n",
    "\n",
    "scaler = MinMaxScaler(feature_range=(0, 1))\n",
    "best_score=1000\n",
    "for hidden_layer_sizes in [[10,10], [100,100]]:\n",
    "    for alpha in [0.0001, 0.01, 0.1, 1]:\n",
    "        scores_rmse=[]\n",
    "        # print(n_n)\n",
    "        for size in secuencia:\n",
    "            X_train, X_test, y_train, y_test = train_test_split(X.iloc[:size, :], y.iloc[:size,], test_size=24,shuffle = False, stratify= None)\n",
    "            \n",
    "            # Se aplica trasnformación a los datos\n",
    "            X_train_= scaler.fit_transform(X_train, y_train)    \n",
    "            reg = MLPRegressor(hidden_layer_sizes=hidden_layer_sizes, alpha=alpha)\n",
    "            reg.fit(X_train_, y_train)\n",
    "            # Ahora a los datos de validación\n",
    "            X_test_=scaler.transform(X_test)\n",
    "            y_pred = reg.predict(X_test_)\n",
    "            score = np.sqrt(mean_squared_error(y_test, y_pred))\n",
    "            mape = mean_absolute_percentage_error(y_test, y_pred)\n",
    "            r2 = reg.score(X_test, y_test)\n",
    "            scores_rmse.append(score)\n",
    "        score_cv = np.mean(scores_rmse)\n",
    "        # print(score_cv)\n",
    "        if score_cv < best_score:\n",
    "            best_score = score_cv        \n",
    "            best_parameters = {'hidden_layer_sizes': hidden_layer_sizes, 'alpha': alpha}\n",
    "print(best_parameters)\n",
    "print(best_score)"
   ]
  },
  {
   "cell_type": "markdown",
   "metadata": {},
   "source": [
    "Para este algoritmo, el RMSE mas bajo se obtuvo con **hidden_layer_sizes** con valor [100,100] y **alpha** con valor 1. Teniendo en cuenta los valores obtenidos para los parámetros, se entrena el nuevo modelo considerando todos los datos. Los ultimos 24 registros se toman como set de prueba."
   ]
  },
  {
   "cell_type": "code",
   "execution_count": 60,
   "metadata": {},
   "outputs": [
    {
     "name": "stdout",
     "output_type": "stream",
     "text": [
      "{'RMSE': 0.6924316800302449, 'MAPE': 15.819256429940562, 'R2': 0.7830422180895293}\n"
     ]
    }
   ],
   "source": [
    "mlp_metrics = {'RMSE': 1000,\n",
    "               'MAPE': 0,\n",
    "               'R2': 0}\n",
    "\n",
    "X_train, X_test, y_train, y_test = train_test_split(X, y, test_size=24,shuffle = False, stratify= None)\n",
    "X_train_= scaler.fit_transform(X_train, y_train)    \n",
    "reg = MLPRegressor(**best_parameters)\n",
    "reg.fit(X_train_, y_train)\n",
    "# Ahora a los datos de validación\n",
    "X_test_=scaler.transform(X_test)\n",
    "y_pred = reg.predict(X_test_)\n",
    "score = np.sqrt(mean_squared_error(y_test, y_pred))\n",
    "mape = mean_absolute_percentage_error(y_test, y_pred)\n",
    "r2 = reg.score(X_test_, y_test)\n",
    "mlp_metrics['RMSE'] = score\n",
    "mlp_metrics['MAPE'] = mape\n",
    "mlp_metrics['R2'] = r2\n",
    "\n",
    "# Resultados\n",
    "print(mlp_metrics)"
   ]
  },
  {
   "cell_type": "markdown",
   "metadata": {},
   "source": [
    "### Resultados"
   ]
  },
  {
   "cell_type": "markdown",
   "metadata": {},
   "source": [
    "Luego de realizar las iteraciones en busca de los mejores parámetros para todos los algoritmos de regresión, se obtienen finalmente las siguientes metricas de evaluación:"
   ]
  },
  {
   "cell_type": "code",
   "execution_count": 37,
   "metadata": {},
   "outputs": [
    {
     "data": {
      "text/html": [
       "<div>\n",
       "<style scoped>\n",
       "    .dataframe tbody tr th:only-of-type {\n",
       "        vertical-align: middle;\n",
       "    }\n",
       "\n",
       "    .dataframe tbody tr th {\n",
       "        vertical-align: top;\n",
       "    }\n",
       "\n",
       "    .dataframe thead th {\n",
       "        text-align: right;\n",
       "    }\n",
       "</style>\n",
       "<table border=\"1\" class=\"dataframe\">\n",
       "  <thead>\n",
       "    <tr style=\"text-align: right;\">\n",
       "      <th></th>\n",
       "      <th>knn_metrics</th>\n",
       "      <th>ridge_metrics</th>\n",
       "      <th>lasso_metrics</th>\n",
       "      <th>xgb_metrics</th>\n",
       "      <th>svm_metrics</th>\n",
       "      <th>mlp_metrics</th>\n",
       "    </tr>\n",
       "  </thead>\n",
       "  <tbody>\n",
       "    <tr>\n",
       "      <th>RMSE</th>\n",
       "      <td>0.751880</td>\n",
       "      <td>0.546106</td>\n",
       "      <td>0.550537</td>\n",
       "      <td>0.638409</td>\n",
       "      <td>0.500096</td>\n",
       "      <td>0.699306</td>\n",
       "    </tr>\n",
       "    <tr>\n",
       "      <th>MAPE</th>\n",
       "      <td>15.480043</td>\n",
       "      <td>13.700323</td>\n",
       "      <td>13.609275</td>\n",
       "      <td>12.688368</td>\n",
       "      <td>12.757484</td>\n",
       "      <td>15.935268</td>\n",
       "    </tr>\n",
       "    <tr>\n",
       "      <th>R2</th>\n",
       "      <td>0.744190</td>\n",
       "      <td>0.865049</td>\n",
       "      <td>0.862850</td>\n",
       "      <td>0.815575</td>\n",
       "      <td>0.886831</td>\n",
       "      <td>0.778713</td>\n",
       "    </tr>\n",
       "  </tbody>\n",
       "</table>\n",
       "</div>"
      ],
      "text/plain": [
       "      knn_metrics  ridge_metrics  lasso_metrics  xgb_metrics  svm_metrics  \\\n",
       "RMSE     0.751880       0.546106       0.550537     0.638409     0.500096   \n",
       "MAPE    15.480043      13.700323      13.609275    12.688368    12.757484   \n",
       "R2       0.744190       0.865049       0.862850     0.815575     0.886831   \n",
       "\n",
       "      mlp_metrics  \n",
       "RMSE     0.699306  \n",
       "MAPE    15.935268  \n",
       "R2       0.778713  "
      ]
     },
     "metadata": {},
     "output_type": "display_data"
    }
   ],
   "source": [
    "resultados = {'knn_metrics': knn_metrics,\n",
    "              'ridge_metrics': ridge_metrics,\n",
    "              'lasso_metrics': lasso_metrics,\n",
    "              'xgb_metrics':xgb_metrics,\n",
    "              'svm_metrics':svm_metrics,\n",
    "              'mlp_metrics':mlp_metrics}\n",
    "eval_df = pd.DataFrame(resultados)\n",
    "display(eval_df)"
   ]
  },
  {
   "cell_type": "markdown",
   "metadata": {},
   "source": [
    "Al observar la métricas obtenidas por los modelos entrenados con cada algoritmo, se puede observar que el algoritmo de regresión que entregó las mejores metricas de evaluación es **SVM (SVR)**, ya que el modelo creado con este algoritmo tiene el RMSE mas bajo entre todos los modelos, y además tiene el R2 mas alto, lo que indica que el modelo explica alrededor del 88% de la variabilidad de la varible respuesta, **Velocidad del viento horaria**."
   ]
  },
  {
   "cell_type": "markdown",
   "metadata": {},
   "source": [
    "Algunos puntos a tener en cuenta:\n",
    "* Los resultados obtenidos podrian cambiar si se llegaran a evaluar los algoritmos con una mayor cantidad de particiones. Debido a limitaciones computacionales, solo se utilizaron 60 particiones de los datos.\n",
    "* Se podria evaluar el metodo utilizado para escalar los datos, ya que se escogió MinMaxScaler por facilidad, pero podria haber un metodo mas adecuado para los datos utilizados.\n",
    "* Se podrian considerar otros parámetros para modfiicar en los algoritmos, que puedan afectar el rendimiento de los modelos. Los escogidos durante este ejercicio son los que comunmente se modifican en la practica y la literatura, pero se podrian considerar más parámetros."
   ]
  }
 ],
 "metadata": {
  "kernelspec": {
   "display_name": "ml_venv",
   "language": "python",
   "name": "python3"
  },
  "language_info": {
   "codemirror_mode": {
    "name": "ipython",
    "version": 3
   },
   "file_extension": ".py",
   "mimetype": "text/x-python",
   "name": "python",
   "nbconvert_exporter": "python",
   "pygments_lexer": "ipython3",
   "version": "3.9.17"
  },
  "orig_nbformat": 4
 },
 "nbformat": 4,
 "nbformat_minor": 2
}
